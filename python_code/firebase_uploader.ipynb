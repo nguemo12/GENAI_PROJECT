{
 "cells": [
  {
   "cell_type": "code",
   "execution_count": 1,
   "id": "5d0094f2",
   "metadata": {},
   "outputs": [],
   "source": [
    "# ! pip install firebase-admin\n",
    "# ! pip install google-cloud-storage\n",
    "# ! pip install python-dotenv\n",
    "# ! pip install pandas\n"
   ]
  },
  {
   "cell_type": "code",
   "execution_count": 2,
   "id": "49ffbfc4",
   "metadata": {},
   "outputs": [
    {
     "data": {
      "text/plain": [
       "True"
      ]
     },
     "execution_count": 2,
     "metadata": {},
     "output_type": "execute_result"
    }
   ],
   "source": [
    "import firebase_admin\n",
    "from firebase_admin import credentials, storage\n",
    "from firebase_admin import db\n",
    "import pandas as pd\n",
    "import os\n",
    "import dotenv\n",
    "dotenv.load_dotenv()"
   ]
  },
  {
   "cell_type": "markdown",
   "id": "426a06fa",
   "metadata": {},
   "source": [
    "# Firebase Init"
   ]
  },
  {
   "cell_type": "code",
   "execution_count": 3,
   "id": "1cd22fb9",
   "metadata": {
    "vscode": {
     "languageId": "javascript"
    }
   },
   "outputs": [],
   "source": [
    "service_account_info ={\n",
    "    \"type\": os.getenv('FIREBASE_TYPE'),\n",
    "    \"project_id\": os.getenv('FIREBASE_PROJECT_ID'),\n",
    "    \"private_key_id\": os.getenv('FIREBASE_PRIVATE_KEY_ID'),\n",
    "    \"private_key\": os.getenv('FIREBASE_PRIVATE_KEY'),\n",
    "    \"client_email\": os.getenv('FIREBASE_CLIENT_EMAIL'),\n",
    "    \"client_id\": os.getenv('FIREBASE_CLIENT_ID'),\n",
    "    \"auth_uri\": os.getenv('FIREBASE_AUTH_URI'),\n",
    "    \"token_uri\": os.getenv('FIREBASE_TOKEN_URI'),\n",
    "    \"auth_provider_x509_cert_url\": os.getenv('FIREBASE_AUTH_PROVIDER_X509_CERT_URL'),\n",
    "    \"client_x509_cert_url\": os.getenv('FIREBASE_CLIENT_X509_CERT_URL'),\n",
    "    \"universe_domain\": os.getenv('FIREBASE_UNIVERSE_DOMAIN')\n",
    "  }\n",
    "  \n",
    "\n"
   ]
  },
  {
   "cell_type": "code",
   "execution_count": null,
   "id": "b37cbe76",
   "metadata": {},
   "outputs": [
    {
     "data": {
      "text/plain": [
       "<firebase_admin.App at 0x191c8a3f450>"
      ]
     },
     "execution_count": 4,
     "metadata": {},
     "output_type": "execute_result"
    }
   ],
   "source": [
    "cred = credentials.Certificate(service_account_info)\n",
    "firebase_admin.initialize_app(cred,{\n",
    "    'storageBucket': 'coffee-shop-app-ae9b1.firebasestorage.app',\n",
    "     'databaseURL': 'https://coffee-shop-app-a4152-default-rtdb.firebaseio.com/'\n",
    "})"
   ]
  },
  {
   "cell_type": "code",
   "execution_count": 5,
   "id": "addb5948",
   "metadata": {},
   "outputs": [],
   "source": [
    "bucket = storage.bucket()"
   ]
  },
  {
   "cell_type": "code",
   "execution_count": null,
   "id": "ff8095b6",
   "metadata": {},
   "outputs": [],
   "source": []
  },
  {
   "cell_type": "markdown",
   "id": "85213aa9",
   "metadata": {},
   "source": [
    "# Upload Data"
   ]
  },
  {
   "cell_type": "code",
   "execution_count": 6,
   "id": "7e0c06e4",
   "metadata": {},
   "outputs": [],
   "source": [
    "image_folder_path = './products/images/'"
   ]
  },
  {
   "cell_type": "code",
   "execution_count": 7,
   "id": "5407981f",
   "metadata": {},
   "outputs": [],
   "source": [
    "products_collection = db.reference('products')"
   ]
  },
  {
   "cell_type": "code",
   "execution_count": 8,
   "id": "5f98b7ed",
   "metadata": {},
   "outputs": [
    {
     "data": {
      "text/html": [
       "<div>\n",
       "<style scoped>\n",
       "    .dataframe tbody tr th:only-of-type {\n",
       "        vertical-align: middle;\n",
       "    }\n",
       "\n",
       "    .dataframe tbody tr th {\n",
       "        vertical-align: top;\n",
       "    }\n",
       "\n",
       "    .dataframe thead th {\n",
       "        text-align: right;\n",
       "    }\n",
       "</style>\n",
       "<table border=\"1\" class=\"dataframe\">\n",
       "  <thead>\n",
       "    <tr style=\"text-align: right;\">\n",
       "      <th></th>\n",
       "      <th>name</th>\n",
       "      <th>category</th>\n",
       "      <th>description</th>\n",
       "      <th>ingredients</th>\n",
       "      <th>price</th>\n",
       "      <th>rating</th>\n",
       "      <th>image_path</th>\n",
       "    </tr>\n",
       "  </thead>\n",
       "  <tbody>\n",
       "    <tr>\n",
       "      <th>0</th>\n",
       "      <td>Cappuccino</td>\n",
       "      <td>Coffee</td>\n",
       "      <td>A rich and creamy cappuccino made with freshly...</td>\n",
       "      <td>[Espresso, Steamed Milk, Milk Foam]</td>\n",
       "      <td>4.50</td>\n",
       "      <td>4.7</td>\n",
       "      <td>cappuccino.jpg</td>\n",
       "    </tr>\n",
       "    <tr>\n",
       "      <th>1</th>\n",
       "      <td>Jumbo Savory Scone</td>\n",
       "      <td>Bakery</td>\n",
       "      <td>Deliciously flaky and buttery, this jumbo savo...</td>\n",
       "      <td>[Flour, Butter, Cheese, Herbs, Baking Powder, ...</td>\n",
       "      <td>3.25</td>\n",
       "      <td>4.3</td>\n",
       "      <td>SavoryScone.webp</td>\n",
       "    </tr>\n",
       "  </tbody>\n",
       "</table>\n",
       "</div>"
      ],
      "text/plain": [
       "                 name category  \\\n",
       "0          Cappuccino   Coffee   \n",
       "1  Jumbo Savory Scone   Bakery   \n",
       "\n",
       "                                         description  \\\n",
       "0  A rich and creamy cappuccino made with freshly...   \n",
       "1  Deliciously flaky and buttery, this jumbo savo...   \n",
       "\n",
       "                                         ingredients  price  rating  \\\n",
       "0                [Espresso, Steamed Milk, Milk Foam]   4.50     4.7   \n",
       "1  [Flour, Butter, Cheese, Herbs, Baking Powder, ...   3.25     4.3   \n",
       "\n",
       "         image_path  \n",
       "0    cappuccino.jpg  \n",
       "1  SavoryScone.webp  "
      ]
     },
     "execution_count": 8,
     "metadata": {},
     "output_type": "execute_result"
    }
   ],
   "source": [
    "df = pd.read_json('products/products.jsonl',lines=True)\n",
    "df.head(2)"
   ]
  },
  {
   "cell_type": "code",
   "execution_count": null,
   "id": "174f72f3",
   "metadata": {},
   "outputs": [],
   "source": []
  },
  {
   "cell_type": "code",
   "execution_count": 9,
   "id": "48d7da07",
   "metadata": {},
   "outputs": [],
   "source": [
    "def upload_image(bucket, image_path):\n",
    "    image_name = image_path.split('/')[-1]\n",
    "    blob = bucket.blob(f'product_images/{image_name}')\n",
    "    # Upload image\n",
    "    blob.upload_from_filename(image_path)\n",
    "    # Make the image publicly accessible and get its URL\n",
    "    blob.make_public()\n",
    "    return blob.public_url"
   ]
  },
  {
   "cell_type": "code",
   "execution_count": null,
   "id": "4ea154a6",
   "metadata": {},
   "outputs": [],
   "source": []
  },
  {
   "cell_type": "code",
   "execution_count": 10,
   "id": "881051e2",
   "metadata": {},
   "outputs": [
    {
     "name": "stdout",
     "output_type": "stream",
     "text": [
      "0 Cappuccino\n"
     ]
    },
    {
     "ename": "NotFound",
     "evalue": "404 POST https://storage.googleapis.com/upload/storage/v1/b/coffee-shop-app-a4152.appspot.com/o?uploadType=multipart: {\n  \"error\": {\n    \"code\": 404,\n    \"message\": \"The specified bucket does not exist.\",\n    \"errors\": [\n      {\n        \"message\": \"The specified bucket does not exist.\",\n        \"domain\": \"global\",\n        \"reason\": \"notFound\"\n      }\n    ]\n  }\n}\n: ('Request failed with status code', 404, 'Expected one of', <HTTPStatus.OK: 200>)",
     "output_type": "error",
     "traceback": [
      "\u001b[1;31m---------------------------------------------------------------------------\u001b[0m",
      "\u001b[1;31mInvalidResponse\u001b[0m                           Traceback (most recent call last)",
      "File \u001b[1;32mc:\\Users\\Evrard\\anaconda3\\Lib\\site-packages\\google\\cloud\\storage\\blob.py:2697\u001b[0m, in \u001b[0;36mBlob._prep_and_do_upload\u001b[1;34m(self, file_obj, rewind, size, content_type, num_retries, client, predefined_acl, if_generation_match, if_generation_not_match, if_metageneration_match, if_metageneration_not_match, timeout, checksum, retry, command)\u001b[0m\n\u001b[0;32m   2696\u001b[0m \u001b[38;5;28;01mtry\u001b[39;00m:\n\u001b[1;32m-> 2697\u001b[0m     created_json \u001b[38;5;241m=\u001b[39m \u001b[38;5;28mself\u001b[39m\u001b[38;5;241m.\u001b[39m_do_upload(\n\u001b[0;32m   2698\u001b[0m         client,\n\u001b[0;32m   2699\u001b[0m         file_obj,\n\u001b[0;32m   2700\u001b[0m         content_type,\n\u001b[0;32m   2701\u001b[0m         size,\n\u001b[0;32m   2702\u001b[0m         num_retries,\n\u001b[0;32m   2703\u001b[0m         predefined_acl,\n\u001b[0;32m   2704\u001b[0m         if_generation_match,\n\u001b[0;32m   2705\u001b[0m         if_generation_not_match,\n\u001b[0;32m   2706\u001b[0m         if_metageneration_match,\n\u001b[0;32m   2707\u001b[0m         if_metageneration_not_match,\n\u001b[0;32m   2708\u001b[0m         timeout\u001b[38;5;241m=\u001b[39mtimeout,\n\u001b[0;32m   2709\u001b[0m         checksum\u001b[38;5;241m=\u001b[39mchecksum,\n\u001b[0;32m   2710\u001b[0m         retry\u001b[38;5;241m=\u001b[39mretry,\n\u001b[0;32m   2711\u001b[0m         command\u001b[38;5;241m=\u001b[39mcommand,\n\u001b[0;32m   2712\u001b[0m     )\n\u001b[0;32m   2713\u001b[0m     \u001b[38;5;28mself\u001b[39m\u001b[38;5;241m.\u001b[39m_set_properties(created_json)\n",
      "File \u001b[1;32mc:\\Users\\Evrard\\anaconda3\\Lib\\site-packages\\google\\cloud\\storage\\blob.py:2503\u001b[0m, in \u001b[0;36mBlob._do_upload\u001b[1;34m(self, client, stream, content_type, size, num_retries, predefined_acl, if_generation_match, if_generation_not_match, if_metageneration_match, if_metageneration_not_match, timeout, checksum, retry, command)\u001b[0m\n\u001b[0;32m   2502\u001b[0m \u001b[38;5;28;01mif\u001b[39;00m size \u001b[38;5;129;01mis\u001b[39;00m \u001b[38;5;129;01mnot\u001b[39;00m \u001b[38;5;28;01mNone\u001b[39;00m \u001b[38;5;129;01mand\u001b[39;00m size \u001b[38;5;241m<\u001b[39m\u001b[38;5;241m=\u001b[39m _MAX_MULTIPART_SIZE:\n\u001b[1;32m-> 2503\u001b[0m     response \u001b[38;5;241m=\u001b[39m \u001b[38;5;28mself\u001b[39m\u001b[38;5;241m.\u001b[39m_do_multipart_upload(\n\u001b[0;32m   2504\u001b[0m         client,\n\u001b[0;32m   2505\u001b[0m         stream,\n\u001b[0;32m   2506\u001b[0m         content_type,\n\u001b[0;32m   2507\u001b[0m         size,\n\u001b[0;32m   2508\u001b[0m         num_retries,\n\u001b[0;32m   2509\u001b[0m         predefined_acl,\n\u001b[0;32m   2510\u001b[0m         if_generation_match,\n\u001b[0;32m   2511\u001b[0m         if_generation_not_match,\n\u001b[0;32m   2512\u001b[0m         if_metageneration_match,\n\u001b[0;32m   2513\u001b[0m         if_metageneration_not_match,\n\u001b[0;32m   2514\u001b[0m         timeout\u001b[38;5;241m=\u001b[39mtimeout,\n\u001b[0;32m   2515\u001b[0m         checksum\u001b[38;5;241m=\u001b[39mchecksum,\n\u001b[0;32m   2516\u001b[0m         retry\u001b[38;5;241m=\u001b[39mretry,\n\u001b[0;32m   2517\u001b[0m         command\u001b[38;5;241m=\u001b[39mcommand,\n\u001b[0;32m   2518\u001b[0m     )\n\u001b[0;32m   2519\u001b[0m \u001b[38;5;28;01melse\u001b[39;00m:\n",
      "File \u001b[1;32mc:\\Users\\Evrard\\anaconda3\\Lib\\site-packages\\google\\cloud\\storage\\blob.py:2003\u001b[0m, in \u001b[0;36mBlob._do_multipart_upload\u001b[1;34m(self, client, stream, content_type, size, num_retries, predefined_acl, if_generation_match, if_generation_not_match, if_metageneration_match, if_metageneration_not_match, timeout, checksum, retry, command)\u001b[0m\n\u001b[0;32m   1997\u001b[0m \u001b[38;5;28;01mwith\u001b[39;00m create_trace_span(\n\u001b[0;32m   1998\u001b[0m     name\u001b[38;5;241m=\u001b[39m\u001b[38;5;124m\"\u001b[39m\u001b[38;5;124mStorage.MultipartUpload/transmit\u001b[39m\u001b[38;5;124m\"\u001b[39m,\n\u001b[0;32m   1999\u001b[0m     attributes\u001b[38;5;241m=\u001b[39mextra_attributes,\n\u001b[0;32m   2000\u001b[0m     client\u001b[38;5;241m=\u001b[39mclient,\n\u001b[0;32m   2001\u001b[0m     api_request\u001b[38;5;241m=\u001b[39margs,\n\u001b[0;32m   2002\u001b[0m ):\n\u001b[1;32m-> 2003\u001b[0m     response \u001b[38;5;241m=\u001b[39m upload\u001b[38;5;241m.\u001b[39mtransmit(\n\u001b[0;32m   2004\u001b[0m         transport, data, object_metadata, content_type, timeout\u001b[38;5;241m=\u001b[39mtimeout\n\u001b[0;32m   2005\u001b[0m     )\n\u001b[0;32m   2007\u001b[0m     \u001b[38;5;28;01mreturn\u001b[39;00m response\n",
      "File \u001b[1;32mc:\\Users\\Evrard\\anaconda3\\Lib\\site-packages\\google\\resumable_media\\requests\\upload.py:153\u001b[0m, in \u001b[0;36mMultipartUpload.transmit\u001b[1;34m(self, transport, data, metadata, content_type, timeout)\u001b[0m\n\u001b[0;32m    151\u001b[0m     \u001b[38;5;28;01mreturn\u001b[39;00m result\n\u001b[1;32m--> 153\u001b[0m \u001b[38;5;28;01mreturn\u001b[39;00m _request_helpers\u001b[38;5;241m.\u001b[39mwait_and_retry(\n\u001b[0;32m    154\u001b[0m     retriable_request, \u001b[38;5;28mself\u001b[39m\u001b[38;5;241m.\u001b[39m_get_status_code, \u001b[38;5;28mself\u001b[39m\u001b[38;5;241m.\u001b[39m_retry_strategy\n\u001b[0;32m    155\u001b[0m )\n",
      "File \u001b[1;32mc:\\Users\\Evrard\\anaconda3\\Lib\\site-packages\\google\\resumable_media\\requests\\_request_helpers.py:155\u001b[0m, in \u001b[0;36mwait_and_retry\u001b[1;34m(func, get_status_code, retry_strategy)\u001b[0m\n\u001b[0;32m    154\u001b[0m \u001b[38;5;28;01mtry\u001b[39;00m:\n\u001b[1;32m--> 155\u001b[0m     response \u001b[38;5;241m=\u001b[39m func()\n\u001b[0;32m    156\u001b[0m \u001b[38;5;28;01mexcept\u001b[39;00m _CONNECTION_ERROR_CLASSES \u001b[38;5;28;01mas\u001b[39;00m e:\n",
      "File \u001b[1;32mc:\\Users\\Evrard\\anaconda3\\Lib\\site-packages\\google\\resumable_media\\requests\\upload.py:149\u001b[0m, in \u001b[0;36mMultipartUpload.transmit.<locals>.retriable_request\u001b[1;34m()\u001b[0m\n\u001b[0;32m    145\u001b[0m result \u001b[38;5;241m=\u001b[39m transport\u001b[38;5;241m.\u001b[39mrequest(\n\u001b[0;32m    146\u001b[0m     method, url, data\u001b[38;5;241m=\u001b[39mpayload, headers\u001b[38;5;241m=\u001b[39mheaders, timeout\u001b[38;5;241m=\u001b[39mtimeout\n\u001b[0;32m    147\u001b[0m )\n\u001b[1;32m--> 149\u001b[0m \u001b[38;5;28mself\u001b[39m\u001b[38;5;241m.\u001b[39m_process_response(result)\n\u001b[0;32m    151\u001b[0m \u001b[38;5;28;01mreturn\u001b[39;00m result\n",
      "File \u001b[1;32mc:\\Users\\Evrard\\anaconda3\\Lib\\site-packages\\google\\resumable_media\\_upload.py:125\u001b[0m, in \u001b[0;36mUploadBase._process_response\u001b[1;34m(self, response)\u001b[0m\n\u001b[0;32m    124\u001b[0m \u001b[38;5;28mself\u001b[39m\u001b[38;5;241m.\u001b[39m_finished \u001b[38;5;241m=\u001b[39m \u001b[38;5;28;01mTrue\u001b[39;00m\n\u001b[1;32m--> 125\u001b[0m _helpers\u001b[38;5;241m.\u001b[39mrequire_status_code(response, (http\u001b[38;5;241m.\u001b[39mclient\u001b[38;5;241m.\u001b[39mOK,), \u001b[38;5;28mself\u001b[39m\u001b[38;5;241m.\u001b[39m_get_status_code)\n",
      "File \u001b[1;32mc:\\Users\\Evrard\\anaconda3\\Lib\\site-packages\\google\\resumable_media\\_helpers.py:108\u001b[0m, in \u001b[0;36mrequire_status_code\u001b[1;34m(response, status_codes, get_status_code, callback)\u001b[0m\n\u001b[0;32m    107\u001b[0m         callback()\n\u001b[1;32m--> 108\u001b[0m     \u001b[38;5;28;01mraise\u001b[39;00m common\u001b[38;5;241m.\u001b[39mInvalidResponse(\n\u001b[0;32m    109\u001b[0m         response,\n\u001b[0;32m    110\u001b[0m         \u001b[38;5;124m\"\u001b[39m\u001b[38;5;124mRequest failed with status code\u001b[39m\u001b[38;5;124m\"\u001b[39m,\n\u001b[0;32m    111\u001b[0m         status_code,\n\u001b[0;32m    112\u001b[0m         \u001b[38;5;124m\"\u001b[39m\u001b[38;5;124mExpected one of\u001b[39m\u001b[38;5;124m\"\u001b[39m,\n\u001b[0;32m    113\u001b[0m         \u001b[38;5;241m*\u001b[39mstatus_codes\n\u001b[0;32m    114\u001b[0m     )\n\u001b[0;32m    115\u001b[0m \u001b[38;5;28;01mreturn\u001b[39;00m status_code\n",
      "\u001b[1;31mInvalidResponse\u001b[0m: ('Request failed with status code', 404, 'Expected one of', <HTTPStatus.OK: 200>)",
      "\nDuring handling of the above exception, another exception occurred:\n",
      "\u001b[1;31mNotFound\u001b[0m                                  Traceback (most recent call last)",
      "Cell \u001b[1;32mIn[10], line 6\u001b[0m\n\u001b[0;32m      2\u001b[0m \u001b[38;5;28mprint\u001b[39m(index, row[\u001b[38;5;124m'\u001b[39m\u001b[38;5;124mname\u001b[39m\u001b[38;5;124m'\u001b[39m])\n\u001b[0;32m      4\u001b[0m image_path \u001b[38;5;241m=\u001b[39m os\u001b[38;5;241m.\u001b[39mpath\u001b[38;5;241m.\u001b[39mjoin(image_folder_path,row[\u001b[38;5;124m'\u001b[39m\u001b[38;5;124mimage_path\u001b[39m\u001b[38;5;124m'\u001b[39m])\n\u001b[1;32m----> 6\u001b[0m image_url \u001b[38;5;241m=\u001b[39m upload_image(bucket,image_path)\n\u001b[0;32m      7\u001b[0m product_data \u001b[38;5;241m=\u001b[39m row\u001b[38;5;241m.\u001b[39mto_dict()\n\u001b[0;32m      8\u001b[0m product_data\u001b[38;5;241m.\u001b[39mpop(\u001b[38;5;124m'\u001b[39m\u001b[38;5;124mimage_path\u001b[39m\u001b[38;5;124m'\u001b[39m)\n",
      "Cell \u001b[1;32mIn[9], line 5\u001b[0m, in \u001b[0;36mupload_image\u001b[1;34m(bucket, image_path)\u001b[0m\n\u001b[0;32m      3\u001b[0m blob \u001b[38;5;241m=\u001b[39m bucket\u001b[38;5;241m.\u001b[39mblob(\u001b[38;5;124mf\u001b[39m\u001b[38;5;124m'\u001b[39m\u001b[38;5;124mproduct_images/\u001b[39m\u001b[38;5;132;01m{\u001b[39;00mimage_name\u001b[38;5;132;01m}\u001b[39;00m\u001b[38;5;124m'\u001b[39m)\n\u001b[0;32m      4\u001b[0m \u001b[38;5;66;03m# Upload image\u001b[39;00m\n\u001b[1;32m----> 5\u001b[0m blob\u001b[38;5;241m.\u001b[39mupload_from_filename(image_path)\n\u001b[0;32m      6\u001b[0m \u001b[38;5;66;03m# Make the image publicly accessible and get its URL\u001b[39;00m\n\u001b[0;32m      7\u001b[0m blob\u001b[38;5;241m.\u001b[39mmake_public()\n",
      "File \u001b[1;32mc:\\Users\\Evrard\\anaconda3\\Lib\\contextlib.py:81\u001b[0m, in \u001b[0;36mContextDecorator.__call__.<locals>.inner\u001b[1;34m(*args, **kwds)\u001b[0m\n\u001b[0;32m     78\u001b[0m \u001b[38;5;129m@wraps\u001b[39m(func)\n\u001b[0;32m     79\u001b[0m \u001b[38;5;28;01mdef\u001b[39;00m \u001b[38;5;21minner\u001b[39m(\u001b[38;5;241m*\u001b[39margs, \u001b[38;5;241m*\u001b[39m\u001b[38;5;241m*\u001b[39mkwds):\n\u001b[0;32m     80\u001b[0m     \u001b[38;5;28;01mwith\u001b[39;00m \u001b[38;5;28mself\u001b[39m\u001b[38;5;241m.\u001b[39m_recreate_cm():\n\u001b[1;32m---> 81\u001b[0m         \u001b[38;5;28;01mreturn\u001b[39;00m func(\u001b[38;5;241m*\u001b[39margs, \u001b[38;5;241m*\u001b[39m\u001b[38;5;241m*\u001b[39mkwds)\n",
      "File \u001b[1;32mc:\\Users\\Evrard\\anaconda3\\Lib\\site-packages\\google\\cloud\\storage\\blob.py:3003\u001b[0m, in \u001b[0;36mBlob.upload_from_filename\u001b[1;34m(self, filename, content_type, num_retries, client, predefined_acl, if_generation_match, if_generation_not_match, if_metageneration_match, if_metageneration_not_match, timeout, checksum, retry)\u001b[0m\n\u001b[0;32m   2889\u001b[0m \u001b[38;5;129m@create_trace_span\u001b[39m(name\u001b[38;5;241m=\u001b[39m\u001b[38;5;124m\"\u001b[39m\u001b[38;5;124mStorage.Blob.uploadFromFilename\u001b[39m\u001b[38;5;124m\"\u001b[39m)\n\u001b[0;32m   2890\u001b[0m \u001b[38;5;28;01mdef\u001b[39;00m \u001b[38;5;21mupload_from_filename\u001b[39m(\n\u001b[0;32m   2891\u001b[0m     \u001b[38;5;28mself\u001b[39m,\n\u001b[1;32m   (...)\u001b[0m\n\u001b[0;32m   2903\u001b[0m     retry\u001b[38;5;241m=\u001b[39mDEFAULT_RETRY_IF_GENERATION_SPECIFIED,\n\u001b[0;32m   2904\u001b[0m ):\n\u001b[0;32m   2905\u001b[0m \u001b[38;5;250m    \u001b[39m\u001b[38;5;124;03m\"\"\"Upload this blob's contents from the content of a named file.\u001b[39;00m\n\u001b[0;32m   2906\u001b[0m \n\u001b[0;32m   2907\u001b[0m \u001b[38;5;124;03m    The content type of the upload will be determined in order\u001b[39;00m\n\u001b[1;32m   (...)\u001b[0m\n\u001b[0;32m   3000\u001b[0m \u001b[38;5;124;03m        such as delays and deadlines are respected.\u001b[39;00m\n\u001b[0;32m   3001\u001b[0m \u001b[38;5;124;03m    \"\"\"\u001b[39;00m\n\u001b[1;32m-> 3003\u001b[0m     \u001b[38;5;28mself\u001b[39m\u001b[38;5;241m.\u001b[39m_handle_filename_and_upload(\n\u001b[0;32m   3004\u001b[0m         filename,\n\u001b[0;32m   3005\u001b[0m         content_type\u001b[38;5;241m=\u001b[39mcontent_type,\n\u001b[0;32m   3006\u001b[0m         num_retries\u001b[38;5;241m=\u001b[39mnum_retries,\n\u001b[0;32m   3007\u001b[0m         client\u001b[38;5;241m=\u001b[39mclient,\n\u001b[0;32m   3008\u001b[0m         predefined_acl\u001b[38;5;241m=\u001b[39mpredefined_acl,\n\u001b[0;32m   3009\u001b[0m         if_generation_match\u001b[38;5;241m=\u001b[39mif_generation_match,\n\u001b[0;32m   3010\u001b[0m         if_generation_not_match\u001b[38;5;241m=\u001b[39mif_generation_not_match,\n\u001b[0;32m   3011\u001b[0m         if_metageneration_match\u001b[38;5;241m=\u001b[39mif_metageneration_match,\n\u001b[0;32m   3012\u001b[0m         if_metageneration_not_match\u001b[38;5;241m=\u001b[39mif_metageneration_not_match,\n\u001b[0;32m   3013\u001b[0m         timeout\u001b[38;5;241m=\u001b[39mtimeout,\n\u001b[0;32m   3014\u001b[0m         checksum\u001b[38;5;241m=\u001b[39mchecksum,\n\u001b[0;32m   3015\u001b[0m         retry\u001b[38;5;241m=\u001b[39mretry,\n\u001b[0;32m   3016\u001b[0m     )\n",
      "File \u001b[1;32mc:\\Users\\Evrard\\anaconda3\\Lib\\site-packages\\google\\cloud\\storage\\blob.py:2881\u001b[0m, in \u001b[0;36mBlob._handle_filename_and_upload\u001b[1;34m(self, filename, content_type, *args, **kwargs)\u001b[0m\n\u001b[0;32m   2879\u001b[0m \u001b[38;5;28;01mwith\u001b[39;00m \u001b[38;5;28mopen\u001b[39m(filename, \u001b[38;5;124m\"\u001b[39m\u001b[38;5;124mrb\u001b[39m\u001b[38;5;124m\"\u001b[39m) \u001b[38;5;28;01mas\u001b[39;00m file_obj:\n\u001b[0;32m   2880\u001b[0m     total_bytes \u001b[38;5;241m=\u001b[39m os\u001b[38;5;241m.\u001b[39mfstat(file_obj\u001b[38;5;241m.\u001b[39mfileno())\u001b[38;5;241m.\u001b[39mst_size\n\u001b[1;32m-> 2881\u001b[0m     \u001b[38;5;28mself\u001b[39m\u001b[38;5;241m.\u001b[39m_prep_and_do_upload(\n\u001b[0;32m   2882\u001b[0m         file_obj,\n\u001b[0;32m   2883\u001b[0m         content_type\u001b[38;5;241m=\u001b[39mcontent_type,\n\u001b[0;32m   2884\u001b[0m         size\u001b[38;5;241m=\u001b[39mtotal_bytes,\n\u001b[0;32m   2885\u001b[0m         \u001b[38;5;241m*\u001b[39margs,\n\u001b[0;32m   2886\u001b[0m         \u001b[38;5;241m*\u001b[39m\u001b[38;5;241m*\u001b[39mkwargs,\n\u001b[0;32m   2887\u001b[0m     )\n",
      "File \u001b[1;32mc:\\Users\\Evrard\\anaconda3\\Lib\\site-packages\\google\\cloud\\storage\\blob.py:2715\u001b[0m, in \u001b[0;36mBlob._prep_and_do_upload\u001b[1;34m(self, file_obj, rewind, size, content_type, num_retries, client, predefined_acl, if_generation_match, if_generation_not_match, if_metageneration_match, if_metageneration_not_match, timeout, checksum, retry, command)\u001b[0m\n\u001b[0;32m   2713\u001b[0m     \u001b[38;5;28mself\u001b[39m\u001b[38;5;241m.\u001b[39m_set_properties(created_json)\n\u001b[0;32m   2714\u001b[0m \u001b[38;5;28;01mexcept\u001b[39;00m resumable_media\u001b[38;5;241m.\u001b[39mInvalidResponse \u001b[38;5;28;01mas\u001b[39;00m exc:\n\u001b[1;32m-> 2715\u001b[0m     _raise_from_invalid_response(exc)\n",
      "File \u001b[1;32mc:\\Users\\Evrard\\anaconda3\\Lib\\site-packages\\google\\cloud\\storage\\blob.py:4905\u001b[0m, in \u001b[0;36m_raise_from_invalid_response\u001b[1;34m(error)\u001b[0m\n\u001b[0;32m   4901\u001b[0m     error_message \u001b[38;5;241m=\u001b[39m \u001b[38;5;28mstr\u001b[39m(error)\n\u001b[0;32m   4903\u001b[0m message \u001b[38;5;241m=\u001b[39m \u001b[38;5;124mf\u001b[39m\u001b[38;5;124m\"\u001b[39m\u001b[38;5;132;01m{\u001b[39;00mresponse\u001b[38;5;241m.\u001b[39mrequest\u001b[38;5;241m.\u001b[39mmethod\u001b[38;5;132;01m}\u001b[39;00m\u001b[38;5;124m \u001b[39m\u001b[38;5;132;01m{\u001b[39;00mresponse\u001b[38;5;241m.\u001b[39mrequest\u001b[38;5;241m.\u001b[39murl\u001b[38;5;132;01m}\u001b[39;00m\u001b[38;5;124m: \u001b[39m\u001b[38;5;132;01m{\u001b[39;00merror_message\u001b[38;5;132;01m}\u001b[39;00m\u001b[38;5;124m\"\u001b[39m\n\u001b[1;32m-> 4905\u001b[0m \u001b[38;5;28;01mraise\u001b[39;00m exceptions\u001b[38;5;241m.\u001b[39mfrom_http_status(response\u001b[38;5;241m.\u001b[39mstatus_code, message, response\u001b[38;5;241m=\u001b[39mresponse)\n",
      "\u001b[1;31mNotFound\u001b[0m: 404 POST https://storage.googleapis.com/upload/storage/v1/b/coffee-shop-app-a4152.appspot.com/o?uploadType=multipart: {\n  \"error\": {\n    \"code\": 404,\n    \"message\": \"The specified bucket does not exist.\",\n    \"errors\": [\n      {\n        \"message\": \"The specified bucket does not exist.\",\n        \"domain\": \"global\",\n        \"reason\": \"notFound\"\n      }\n    ]\n  }\n}\n: ('Request failed with status code', 404, 'Expected one of', <HTTPStatus.OK: 200>)"
     ]
    }
   ],
   "source": [
    "for index, row in df.iterrows():\n",
    "    print(index, row['name'])\n",
    "    \n",
    "    image_path = os.path.join(image_folder_path,row['image_path'])\n",
    "    \n",
    "    image_url = upload_image(bucket,image_path)\n",
    "    product_data = row.to_dict()\n",
    "    product_data.pop('image_path')\n",
    "    product_data['image_url']= image_url\n",
    "    \n",
    "    # Add to Firestore\n",
    "    products_collection.push().set(product_data)\n",
    "    "
   ]
  },
  {
   "cell_type": "code",
   "execution_count": null,
   "id": "1d8087a8",
   "metadata": {},
   "outputs": [],
   "source": []
  },
  {
   "cell_type": "code",
   "execution_count": null,
   "id": "187e78a4",
   "metadata": {},
   "outputs": [],
   "source": []
  }
 ],
 "metadata": {
  "kernelspec": {
   "display_name": "base",
   "language": "python",
   "name": "python3"
  },
  "language_info": {
   "codemirror_mode": {
    "name": "ipython",
    "version": 3
   },
   "file_extension": ".py",
   "mimetype": "text/x-python",
   "name": "python",
   "nbconvert_exporter": "python",
   "pygments_lexer": "ipython3",
   "version": "3.11.5"
  }
 },
 "nbformat": 4,
 "nbformat_minor": 5
}
