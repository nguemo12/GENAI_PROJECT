{
 "cells": [
  {
   "cell_type": "code",
   "execution_count": 1,
   "id": "1d4a84f8",
   "metadata": {},
   "outputs": [],
   "source": [
    "# ! pip install pandas\n",
    "# ! pip install pinecone\n",
    "# ! pip unstall openai\n",
    "# ! pip install python-dotenv"
   ]
  },
  {
   "cell_type": "code",
   "execution_count": 7,
   "id": "6c66af0e",
   "metadata": {},
   "outputs": [],
   "source": [
    "from pinecone import Pinecone, ServerlessSpec\n",
    "import os\n",
    "from openai import OpenAI\n",
    "import pandas as pd\n",
    "from time import time\n",
    "import dotenv\n",
    "dotenv.load_dotenv()\n",
    "from together import Together"
   ]
  },
  {
   "cell_type": "code",
   "execution_count": 8,
   "id": "8c5cb20f",
   "metadata": {},
   "outputs": [],
   "source": [
    "token= os.getenv(\"TOGETHER_API_KEY\") \n",
    "# open_ai_base_url = os.getenv(\"RUNPOD_EMBEDDING_URL\") \n",
    "model_name= os.getenv(\"MODEL_NAME\") \n",
    "pinecone_api_key = os.getenv(\"PINECONE_API_KEY\") "
   ]
  },
  {
   "cell_type": "code",
   "execution_count": null,
   "id": "da432083",
   "metadata": {},
   "outputs": [],
   "source": [
    "pc = Pinecone(api_key=pinecone_api_key)\n",
    "\n",
    "client = Together(\n",
    "  api_key=token\n",
    ")"
   ]
  },
  {
   "cell_type": "markdown",
   "id": "c1006b63",
   "metadata": {},
   "source": [
    "## Try out embeddings"
   ]
  },
  {
   "cell_type": "code",
   "execution_count": 15,
   "id": "bb120d1c",
   "metadata": {
    "scrolled": true
   },
   "outputs": [
    {
     "name": "stdout",
     "output_type": "stream",
     "text": [
      "[-0.0125544425, -0.044113155, -0.03084596, -0.06244851, -0.019202882, -0.0044565094, 0.057110425, -0.07059755, -0.06669056, -0.031806115, -0.0130010955, -0.035977688, -0.013222456, -0.036191795, 0.06799341, 0.060141355, -0.05900432, 0.027184704, -0.07414323, -0.023034494, -0.016627861, 0.05380352, 0.013887607, -0.036713827, -0.0025265834, -0.030425189, -0.0155652035, 0.06724184, 0.055961568, -0.024285026, 0.036119003, 0.060119923, 0.006208163, 0.033985604, -0.030067516, -0.0056329626, 0.041995272, 0.02114107, 0.04770768, 0.039945636, 0.02771009, -0.0018326284, -0.038981784, -0.042519726, 0.009817259, 0.03754165, -0.003279068, 0.047843542, 0.090597466, 0.060544927, 0.030446703, -0.0005402099, 0.056377098, -0.013878529, 0.04447856, 0.05877096, -0.017111199, 0.033119705, -0.021795923, -0.04336519, -0.04623094, -0.034499742, 0.039839417, -0.01973379, 0.026241617, 0.0014741354, 0.04716746, 0.03579321, 0.026933199, 0.01813506, -0.009512409, -0.02292165, 0.038861938, 0.027368594, -0.0655203, -0.002503077, 0.017862527, -0.024107564, -0.07907692, 0.015001405, 0.030281652, -0.066736, -0.05548249, 0.05334726, -0.009962847, 0.0090752, 0.04283864, 0.060955055, -0.060363095, -0.02429186, 0.0010801102, 0.004959405, 0.008380479, -0.047262643, -0.028180381, -0.043163795, 0.015064333, -0.05300621, 0.022623515, -0.054744896, 0.022952681, -0.024886468, 0.0544489, 0.04272889, -0.010867585, 0.0108970255, 0.016251817, -0.010407117, 0.039886724, -0.010312338, -0.041669834, -0.041886266, 0.021219125, -0.03314852, -0.007262108, 0.07988269, -0.06485515, 0.030317856, 0.01972935, -0.032975744, 0.023409456, 0.006614503, -0.027665239, -0.033194963, 0.06349857, 0.08631656, 0.028043345, -0.026028024, -0.017044514, 0.002401027, 0.03749832, 0.06271117, 0.08232328, 0.07092531, 0.010510577, 0.007694874, -0.03690506, 0.04853497, -0.014699223, 0.018819993, 0.013980726, 0.05130385, 0.0066778935, 0.02429112, -0.05719181, -0.026340937, -0.016654411, 0.0079942355, -0.0025854546, 0.011811624, -0.09664717, -0.0047004884, 0.021115577, 0.058185607, -0.08794215, -0.032442134, 0.054718655, 0.010110047, -0.038975142, 0.024279749, -0.019271703, 0.0755167, -0.012176337, -0.047028583, 0.05473549, -0.014639727, 0.026060488, -0.0029369867, -0.016058667, -0.03293354, -0.0022379868, -0.02109821, 0.033837687, -0.04140251, -0.046235178, -0.015595269, 0.04651863, -0.023795769, -0.010948798, 0.013240554, 0.042454686, 0.030438246, -0.022491379, 0.10366346, 0.02681213, 0.016923176, 0.012243962, -0.037583373, 0.040132124, -0.05850192, -0.022654243, -0.0984048, 0.043736413, 0.0015550317, 0.012202347, 0.011929909, 0.061171453, 0.07152598, -0.027416177, -0.03459379, 0.0074626035, -0.02561054, 0.049195375, 0.015561599, 0.07411742, 0.06043075, -0.0049434844, -0.0522981, 0.031080369, 0.07991682, -0.041541237, -0.031360995, 0.028539557, -0.033346564, 0.02635982, 0.009703248, 0.019645417, -0.010745635, 0.009413676, -0.036858346, 0.0053362665, 0.10160265, 0.06301304, 0.0008940289, 0.038687967, -0.040279645, -0.11922499, -0.03965914, -0.06784828, -0.006036581, 0.0024363731, 0.016801365, 0.0076072016, -0.07908871, -0.0135796, 0.0069377427, 0.05752594, -0.004714128, -0.02611576, -0.06716605, 0.0064219655, 0.03008839, -0.01470235, 0.07505826, -0.012442178, 0.017381955, 0.062128544, 0.00245483, -0.042937767, -0.038670663, 0.0005088662, -0.04446346, -0.021999873, 0.024953555, -0.009011466, -0.008354281, 0.005683644, -7.885974e-05, -0.004179828, -0.007765815, 0.00999054, -0.05809935, -0.11936012, 0.023143852, 0.03175799, 0.015774354, -0.027649933, -0.01603311, -0.082459465, 0.07261764, -0.009511264, 0.057887387, 0.10499926, -0.022816656, -0.026630947, -0.0422929, 0.039068043, 0.0016268552, 0.012377577, 0.034740523, 0.005056769, -0.015205162, 0.012787186, 0.026872586, 0.0002973508, 0.041459866, -0.05334295, 0.005155056, -0.026183562, -0.013198887, -0.00094582484, -0.011218636, 0.026226252, -0.012462967, -0.000985176, 0.033279598, -0.02729912, -0.052398115, 0.021259274, -0.008217397, -0.036154725, 0.015356712, 0.03244615, -0.022359997, -0.017991368, -0.011855907, 0.018522896, 0.068414554, 0.07526109, -0.035061102, -0.052504715, 0.009120904, 0.06870627, -0.028892465, -0.035426855, 0.028923959, 0.008162483, 0.0329715, -0.014042088, 0.026767485, 0.019452773, 0.0057478407, -0.05967611, 0.0034999691, 0.04089079, -0.0535245, -0.0047936956, -0.023397008, 0.032351896, -0.050036702, -0.01511351, -0.04420959, -0.030867213, -0.01509963, -0.035260487, 0.08543548, 0.00346974, -0.11750527, 0.028438631, -0.0016904233, 0.101978, -0.043538183, 0.018001102, -0.0057049147, -0.063789465, -0.016159905, 0.0010615155, -0.011605776, 0.060421497, -0.059555653, -0.06006127, -0.008338032, 0.035928402, -0.045009606, 0.047012903, 0.012389793, -0.056655392, -0.017761212, -0.02542728, -0.014133812, -0.015601394, -0.0693362, -0.03451398, 0.044086687, -0.04721012, -0.120304406, 0.032891046, -0.069243096, 0.02830686, 0.007814747, -0.017218882, 0.006671944, -0.009064236, -0.07835082, 0.039406363, 0.053748745, 0.0567087, -0.056088064, -0.022759415, -0.0082103, -0.0476186, 0.004213997, -0.012750954, 0.015046941, 0.035595577, -0.085179925, 0.055420205, 0.0360464, -0.020219512, -0.030703112, -0.013124731, 0.031061593, -0.015323011, 0.047108453, 0.0019907851, 0.03996174, 0.011713821, 0.0101904245, -0.010625488, 0.09129467, 0.021497957, 0.053074855, 0.03513687, -0.020312946, 0.05521015, 0.006175035, 0.09584288, -0.017721687, -0.11098937, -0.025367241, 0.07136744, 0.019120974, -9.594299e-05, 0.011778987, -0.0062857596, -0.03860406, -0.035467498, -0.011462123, 0.040613372, -0.0058854567, -0.0048380475, 0.03310926, 0.053302165, -0.051756468, -0.02567187, -0.040625874, 0.06474331, 0.049736757, 0.030468779, 0.039560925, 0.04249893, -0.062169425, 0.0019512078, -0.042934164, -0.03850344, -0.0051108245, -0.013148418, -0.020508477, 0.0020307647, 0.033068113, -0.04366079, -0.032187074, 0.0019729466, 0.018808076, -0.008754411, -0.05474838, -0.024592308, 0.028905924, 0.008760791, 0.010397045, 0.0315266, 0.012155873, 0.004484831, -0.0043881563, 0.0174082, -0.041829675, -0.08810034, -0.01768598, 0.0043478743, 0.048013087, -0.080640085, -0.0053936373, -0.0020580264, -0.019315926, -0.045754474, 0.040457793, -0.004963357, -0.032975003, 0.013355468, -0.039794337, -0.03904416, 0.016695868, -0.020215577, -0.028573813, 0.024402725, -0.00580961, -0.015128122, 0.043063413, 0.06448299, -0.038735155, -0.032684878, 0.035315096, 0.019023538, 0.07930346, -0.06198697, -0.00433085, -0.063268915, 0.056092024, -0.03442786, 0.005560525, -0.008713203, -0.007162549, 0.04912404, -0.055802952, 0.031437412, 0.002177859, 0.012085831, -0.041807618, -0.014190548, 0.011495316, 0.037258018, 0.09012587, 0.024995428, -0.02936932, 0.014700942, 0.0355874, -0.0071428656, 0.003874549, -0.05840907, -0.037404023, -0.0047013946, 0.014556956, -0.107791044, 0.018142778, -0.029789213, -0.021429444, -0.01614472, -0.113818675, 0.004724423, 0.031483762, 0.067440964, -0.055132523, -0.0018985118, 0.013107977, -0.06743139, 0.032093074, -0.029711483, -0.108242676, 0.03398126, -0.06795074, -0.087808, -0.071705565, -0.041731007, -0.0011255457, -0.02224179, 0.0044843997, -0.052802123, 0.057436757, 0.01955538, -0.04190777, 8.264091e-05, -0.031307332, -0.053425387, -0.05048176, -0.020178957, -0.034796044, -0.0137523925, 0.013270069, 0.019161314, -0.079074614, -0.0390724, -0.035997164, 0.042523134, 0.030191118, 0.013526544, -0.053100184, 0.036409162, 0.08196135, -0.014550363, 0.018353146, 0.0038058574, 0.046291288, 0.06736189, 0.025372315, 0.10166554, 0.02638068, -0.02676401, -0.015702872, 0.05198327, -0.069310844, 0.025198894, -0.09108635, 0.09306794, -0.07515129, 0.0355318, 0.001508909, -0.0013007962, -0.006885954, 0.02416344, -0.026142024, -0.061732356, -0.053315166, 0.008987117, -0.030999461, 0.0064237434, -0.033745542, -0.047281776, 0.007880093, -0.03101647, -0.051512703, -0.045856394, -0.062005933, -0.02389655, -0.019569555, 0.018055446, -0.019694727, -0.087878264, -0.024994487, 0.0441379, 0.0011980435, -0.042046957, -0.02347035, 0.06974779, 0.0040339385, 0.014458176, 0.05194307, 0.018713044, 0.016965842, 0.019801017, -0.020160357, 0.10747887, -0.026308663, -0.016088752, -0.04547449, 0.05854382, 0.022035593, -0.024000311, -0.0175554, 0.015716271, 0.0127846245, -0.050422437, 0.07396047, -0.007814598, -0.0658621, 0.053927112, -0.056451745, 0.004498595, 0.10755091, -0.063523665, -0.04072261, 0.0037729673, 0.013547147, -0.018409548, -0.008725651, 0.020718314, 0.010843757, 0.008099206, 0.038284246, -0.067912124, -0.062159885, -0.018315991, 0.032934256, -0.049807362, 0.022445647, 0.046567436, 0.0048234537, -0.008663491, 0.032861955, 0.005292995, -0.019427909, -0.02772274, -0.059298396, -0.025970194, -0.039713934, -0.06772766, 0.031467516, -0.03715453, 0.031044433, -0.013191583, -0.060925122, 0.052695706, -0.014962803, -0.008549638, 0.025941385, 0.009544338, 0.039211478, 0.03677834, -0.043675147, -0.06299241, 0.024846202, -0.010272499, -0.06608617, -0.026556155, 0.073542155, -0.028246133, -0.038999394, 0.011157162, -0.010766753, 0.029889794, 0.07187238, -0.0338103, 0.047824446, 0.021437183, -0.024095925, 0.014954398, 0.07196014, 0.006100777, -0.048585802, -0.024354484, 0.0155862775, 0.036422394, 0.024024494, 0.011708534, -0.0041805143, -0.05161408, -0.051990144, 0.022014927, 0.033965044, 0.010250335, 0.08513059, -0.017299451, 0.015444393, 0.05272717, -0.021404082, -0.015492593, 0.040470723, -0.020682532, -0.012737371, -0.05169492, 0.0038999903, 0.03861911, -0.04904526, -0.034554534, -0.039166264, 0.0070999768, -0.025917474, 0.0050055124, 0.032602992, -0.0031157148, -0.044821247, 0.021649264, 0.00021414831, -0.013739031, -0.061846938, -0.011033751, -0.046372242, -0.012068712, -0.014357611, -0.025885427, 0.04744484, -0.03823726, -0.014450436, -0.042176098, -0.014356925, -0.03893499, -0.008092686, -0.067081325, 0.06800654, -0.031263858, -0.03252098, 0.007861188, -0.0009017938, 0.030079661, 0.016897842, -0.04525682, -0.018875586, -0.015910095, 0.027480302, 0.013486004, -0.03889458, 0.049443357, 0.039438803, -0.062185068, -0.05225363, 0.031443875, 0.075703174, -0.02112811, -0.003357137, 0.018574707, -0.010113178, 0.04458888, 0.024676442, -0.024982378, 0.046564557, -0.0047599, 0.051894564, 0.018043438, -0.047213905]\n"
     ]
    }
   ],
   "source": [
    "output = client.embeddings.create(input = [\"helloo there\"],model=\"togethercomputer/m2-bert-80M-32k-retrieval\")\n",
    "embedings = output.data[0].embedding\n",
    "print(embedings)"
   ]
  },
  {
   "cell_type": "code",
   "execution_count": 16,
   "id": "29e9587b",
   "metadata": {},
   "outputs": [
    {
     "data": {
      "text/plain": [
       "768"
      ]
     },
     "execution_count": 16,
     "metadata": {},
     "output_type": "execute_result"
    }
   ],
   "source": [
    "len(embedings)"
   ]
  },
  {
   "cell_type": "code",
   "execution_count": null,
   "id": "cb658827",
   "metadata": {},
   "outputs": [],
   "source": []
  },
  {
   "cell_type": "markdown",
   "id": "9b8b80de",
   "metadata": {},
   "source": [
    "## Wrangle dataset"
   ]
  },
  {
   "cell_type": "code",
   "execution_count": 17,
   "id": "5e2e1be8",
   "metadata": {},
   "outputs": [],
   "source": [
    "df=pd.read_json('products/products.jsonl',lines=True)"
   ]
  },
  {
   "cell_type": "code",
   "execution_count": 18,
   "id": "dbffeb98",
   "metadata": {},
   "outputs": [
    {
     "data": {
      "text/html": [
       "<div>\n",
       "<style scoped>\n",
       "    .dataframe tbody tr th:only-of-type {\n",
       "        vertical-align: middle;\n",
       "    }\n",
       "\n",
       "    .dataframe tbody tr th {\n",
       "        vertical-align: top;\n",
       "    }\n",
       "\n",
       "    .dataframe thead th {\n",
       "        text-align: right;\n",
       "    }\n",
       "</style>\n",
       "<table border=\"1\" class=\"dataframe\">\n",
       "  <thead>\n",
       "    <tr style=\"text-align: right;\">\n",
       "      <th></th>\n",
       "      <th>name</th>\n",
       "      <th>category</th>\n",
       "      <th>description</th>\n",
       "      <th>ingredients</th>\n",
       "      <th>price</th>\n",
       "      <th>rating</th>\n",
       "      <th>image_path</th>\n",
       "    </tr>\n",
       "  </thead>\n",
       "  <tbody>\n",
       "    <tr>\n",
       "      <th>0</th>\n",
       "      <td>Cappuccino</td>\n",
       "      <td>Coffee</td>\n",
       "      <td>A rich and creamy cappuccino made with freshly...</td>\n",
       "      <td>[Espresso, Steamed Milk, Milk Foam]</td>\n",
       "      <td>4.50</td>\n",
       "      <td>4.7</td>\n",
       "      <td>cappuccino.jpg</td>\n",
       "    </tr>\n",
       "    <tr>\n",
       "      <th>1</th>\n",
       "      <td>Jumbo Savory Scone</td>\n",
       "      <td>Bakery</td>\n",
       "      <td>Deliciously flaky and buttery, this jumbo savo...</td>\n",
       "      <td>[Flour, Butter, Cheese, Herbs, Baking Powder, ...</td>\n",
       "      <td>3.25</td>\n",
       "      <td>4.3</td>\n",
       "      <td>SavoryScone.webp</td>\n",
       "    </tr>\n",
       "  </tbody>\n",
       "</table>\n",
       "</div>"
      ],
      "text/plain": [
       "                 name category  \\\n",
       "0          Cappuccino   Coffee   \n",
       "1  Jumbo Savory Scone   Bakery   \n",
       "\n",
       "                                         description  \\\n",
       "0  A rich and creamy cappuccino made with freshly...   \n",
       "1  Deliciously flaky and buttery, this jumbo savo...   \n",
       "\n",
       "                                         ingredients  price  rating  \\\n",
       "0                [Espresso, Steamed Milk, Milk Foam]   4.50     4.7   \n",
       "1  [Flour, Butter, Cheese, Herbs, Baking Powder, ...   3.25     4.3   \n",
       "\n",
       "         image_path  \n",
       "0    cappuccino.jpg  \n",
       "1  SavoryScone.webp  "
      ]
     },
     "execution_count": 18,
     "metadata": {},
     "output_type": "execute_result"
    }
   ],
   "source": [
    "df.head(2)"
   ]
  },
  {
   "cell_type": "code",
   "execution_count": null,
   "id": "1cc39471",
   "metadata": {},
   "outputs": [],
   "source": []
  },
  {
   "cell_type": "code",
   "execution_count": 19,
   "id": "d9ea042d",
   "metadata": {},
   "outputs": [],
   "source": [
    "df['text'] =  df['name']+\" : \"+df['description'] + \\\n",
    "                \" -- Ingredients: \" + df['ingredients'].astype(str) + \\\n",
    "                \" -- Price: \" + df['price'].astype(str) + \\\n",
    "                \" -- rating: \" + df['rating'].astype(str) "
   ]
  },
  {
   "cell_type": "code",
   "execution_count": 20,
   "id": "e0254a83",
   "metadata": {},
   "outputs": [
    {
     "data": {
      "text/plain": [
       "0    Cappuccino : A rich and creamy cappuccino made...\n",
       "1    Jumbo Savory Scone : Deliciously flaky and but...\n",
       "2    Latte : Smooth and creamy, our latte combines ...\n",
       "3    Chocolate Chip Biscotti : Crunchy and delightf...\n",
       "4    Espresso shot : A bold shot of rich espresso, ...\n",
       "Name: text, dtype: object"
      ]
     },
     "execution_count": 20,
     "metadata": {},
     "output_type": "execute_result"
    }
   ],
   "source": [
    "df['text'].head()"
   ]
  },
  {
   "cell_type": "code",
   "execution_count": 21,
   "id": "54a8a7cc",
   "metadata": {},
   "outputs": [],
   "source": [
    "texts = df['text'].tolist()"
   ]
  },
  {
   "cell_type": "code",
   "execution_count": 22,
   "id": "89e73365",
   "metadata": {},
   "outputs": [],
   "source": [
    "with open('products/Merry\\'s_way_about_us.txt') as f:\n",
    "    Merry_way_about_section = f.read()\n",
    "    \n",
    "Merry_way_about_section = \"Coffee shop Merry's Way about section: \" + Merry_way_about_section\n",
    "texts.append(Merry_way_about_section)"
   ]
  },
  {
   "cell_type": "code",
   "execution_count": 23,
   "id": "89c92467",
   "metadata": {},
   "outputs": [],
   "source": [
    "with open('products/menu_items_text.txt') as f:\n",
    "    menue_items_text = f.read()\n",
    "    \n",
    "menue_items_text = \"Menu Items: \" + menue_items_text\n",
    "texts.append(menue_items_text)"
   ]
  },
  {
   "cell_type": "code",
   "execution_count": null,
   "id": "f4432c64",
   "metadata": {},
   "outputs": [],
   "source": []
  },
  {
   "cell_type": "markdown",
   "id": "12e041b1",
   "metadata": {},
   "source": [
    "## Generate Embeddings"
   ]
  },
  {
   "cell_type": "code",
   "execution_count": 25,
   "id": "d4995842",
   "metadata": {},
   "outputs": [],
   "source": [
    "output = client.embeddings.create(input = texts,model=\"togethercomputer/m2-bert-80M-32k-retrieval\")"
   ]
  },
  {
   "cell_type": "code",
   "execution_count": 26,
   "id": "69b16ab5",
   "metadata": {},
   "outputs": [],
   "source": [
    "embeddings = output.data"
   ]
  },
  {
   "cell_type": "code",
   "execution_count": null,
   "id": "ffc75b47",
   "metadata": {},
   "outputs": [],
   "source": []
  },
  {
   "cell_type": "markdown",
   "id": "b63f8308",
   "metadata": {},
   "source": [
    "## Push data to database"
   ]
  },
  {
   "cell_type": "code",
   "execution_count": 30,
   "id": "5a255797",
   "metadata": {},
   "outputs": [],
   "source": [
    "index_name = \"coffeeshop\"\n",
    "\n",
    "pc.create_index(\n",
    "    name=index_name,\n",
    "    dimension=768, # Replace with your model dimensions\n",
    "    metric=\"cosine\", # Replace with your model metric\n",
    "    spec=ServerlessSpec(\n",
    "        cloud=\"aws\",\n",
    "        region=\"us-east-1\"\n",
    "    ) \n",
    ")"
   ]
  },
  {
   "cell_type": "code",
   "execution_count": 31,
   "id": "e742460e",
   "metadata": {},
   "outputs": [
    {
     "data": {
      "text/plain": [
       "{'upserted_count': 20}"
      ]
     },
     "execution_count": 31,
     "metadata": {},
     "output_type": "execute_result"
    }
   ],
   "source": [
    "# Wait for the index to be ready\n",
    "while not pc.describe_index(index_name).status['ready']:\n",
    "    time.sleep(1)\n",
    "\n",
    "index = pc.Index(index_name)\n",
    "\n",
    "vectors = []\n",
    "for text, e in zip(texts, embeddings):\n",
    "    entry_id = text.split(\":\")[0].strip()\n",
    "    vectors.append({\n",
    "        \"id\": entry_id,\n",
    "        \"values\": e.embedding,\n",
    "        \"metadata\": {'text': text}\n",
    "    })\n",
    "    \n",
    "index.upsert(\n",
    "    vectors=vectors,\n",
    "    namespace=\"ns1\"\n",
    ")"
   ]
  },
  {
   "cell_type": "code",
   "execution_count": null,
   "id": "cb353a20",
   "metadata": {},
   "outputs": [],
   "source": []
  },
  {
   "cell_type": "markdown",
   "id": "978c769f",
   "metadata": {},
   "source": [
    "## Get Closest documents"
   ]
  },
  {
   "cell_type": "code",
   "execution_count": null,
   "id": "34ba1c35",
   "metadata": {},
   "outputs": [],
   "source": []
  },
  {
   "cell_type": "code",
   "execution_count": 33,
   "id": "80691695",
   "metadata": {},
   "outputs": [],
   "source": [
    "output = client.embeddings.create(input = [\"Is Cappuccino lactose-free?\"],model=\"togethercomputer/m2-bert-80M-32k-retrieval\")\n",
    "embeding = output.data[0].embedding"
   ]
  },
  {
   "cell_type": "code",
   "execution_count": 34,
   "id": "0571221f",
   "metadata": {},
   "outputs": [
    {
     "name": "stdout",
     "output_type": "stream",
     "text": [
      "{'matches': [{'id': 'Espresso shot',\n",
      "              'metadata': {'text': 'Espresso shot : A bold shot of rich '\n",
      "                                   'espresso, our espresso is crafted from the '\n",
      "                                   'finest beans to deliver a robust flavor in '\n",
      "                                   'every sip. Perfect for a quick pick-me-up, '\n",
      "                                   'it can also serve as a base for your '\n",
      "                                   'favorite coffee drinks. -- Ingredients: '\n",
      "                                   \"['Espresso'] -- Price: 2.0 -- rating: 4.9\"},\n",
      "              'score': 0.614803553,\n",
      "              'values': []},\n",
      "             {'id': 'Hazelnut syrup',\n",
      "              'metadata': {'text': 'Hazelnut syrup : Add a nutty flavor to '\n",
      "                                   'your drinks with our hazelnut syrup, '\n",
      "                                   'perfect for lattes and desserts. Its '\n",
      "                                   'smooth sweetness enhances a variety of '\n",
      "                                   'beverages, making it a must-have for '\n",
      "                                   \"coffee lovers. -- Ingredients: ['Sugar', \"\n",
      "                                   \"'Water', 'Hazelnut Extract', 'Vanilla \"\n",
      "                                   \"Extract'] -- Price: 1.5 -- rating: 4.7\"},\n",
      "              'score': 0.311657876,\n",
      "              'values': []},\n",
      "             {'id': 'Croissant',\n",
      "              'metadata': {'text': 'Croissant : Our classic croissant is flaky '\n",
      "                                   'and buttery, offering a delightful crunch '\n",
      "                                   'with each bite. Whether enjoyed alone or '\n",
      "                                   \"filled with your favorite spread, it's a \"\n",
      "                                   'timeless pastry that elevates any meal. -- '\n",
      "                                   \"Ingredients: ['Flour', 'Butter', 'Yeast', \"\n",
      "                                   \"'Sugar', 'Salt'] -- Price: 3.25 -- rating: \"\n",
      "                                   '4.7'},\n",
      "              'score': 0.303068072,\n",
      "              'values': []}],\n",
      " 'namespace': 'ns1',\n",
      " 'usage': {'read_units': 1}}\n"
     ]
    }
   ],
   "source": [
    "results = index.query(\n",
    "    namespace=\"ns1\",\n",
    "    vector=embeding,\n",
    "    top_k=3,\n",
    "    include_values=False,\n",
    "    include_metadata=True\n",
    ")\n",
    "\n",
    "print(results)"
   ]
  },
  {
   "cell_type": "code",
   "execution_count": null,
   "id": "4d44ecd9",
   "metadata": {},
   "outputs": [],
   "source": []
  },
  {
   "cell_type": "code",
   "execution_count": null,
   "id": "3ca62f60",
   "metadata": {},
   "outputs": [],
   "source": []
  }
 ],
 "metadata": {
  "kernelspec": {
   "display_name": "base",
   "language": "python",
   "name": "python3"
  },
  "language_info": {
   "codemirror_mode": {
    "name": "ipython",
    "version": 3
   },
   "file_extension": ".py",
   "mimetype": "text/x-python",
   "name": "python",
   "nbconvert_exporter": "python",
   "pygments_lexer": "ipython3",
   "version": "3.11.5"
  }
 },
 "nbformat": 4,
 "nbformat_minor": 5
}
